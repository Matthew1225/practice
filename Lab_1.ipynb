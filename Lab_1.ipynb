{
 "cells": [
  {
   "cell_type": "code",
   "execution_count": 1,
   "metadata": {
    "id": "jVBs6CHMb9mn"
   },
   "outputs": [],
   "source": [
    "import re"
   ]
  },
  {
   "cell_type": "markdown",
   "metadata": {
    "id": "yV1v46R0dIHQ"
   },
   "source": [
    "# Task 1\n",
    "Write regexes that:\n",
    "*  remove all special (non-alphanumeric) characters from a string.\n",
    "*  match a word that contains a given character (e.g. ”y”).\n",
    "*  match a word that is n characters long.\n",
    "*  match a word that begins with ”a” OR ”b” and ends with ”s”\n",
    "\n",
    "\n"
   ]
  },
  {
   "cell_type": "code",
   "execution_count": 2,
   "metadata": {
    "colab": {
     "base_uri": "https://localhost:8080/",
     "height": 36
    },
    "id": "RpW0GitsdLUk",
    "outputId": "847d31de-5369-451d-aafc-efe6ffc7ac82"
   },
   "outputs": [
    {
     "data": {
      "text/plain": [
       "'Thisisasamplestringwithspecialcharacters'"
      ]
     },
     "execution_count": 2,
     "metadata": {},
     "output_type": "execute_result"
    }
   ],
   "source": [
    "#remove all special (non-alphanumeric) characters from a string\n",
    "\n",
    "string_1 = \"This is a sample string with special characters: #$%^&*(){}[]\"\n",
    "remove_spec_chars = re.sub(r'[^a-zA-Z0-9]+', '', string_1)\n",
    "remove_spec_chars"
   ]
  },
  {
   "cell_type": "code",
   "execution_count": 3,
   "metadata": {
    "colab": {
     "base_uri": "https://localhost:8080/"
    },
    "id": "r24nOBW6dwxK",
    "outputId": "bb45d814-8f52-4eaf-b73e-c348f64104f9"
   },
   "outputs": [
    {
     "data": {
      "text/plain": [
       "['This', 'is', 'string', 'with', 'special']"
      ]
     },
     "execution_count": 3,
     "metadata": {},
     "output_type": "execute_result"
    }
   ],
   "source": [
    "#match a word that contains a given character\n",
    "\n",
    "matches_with_i = re.findall(r'\\w*i\\w*', string_1)\n",
    "matches_with_i"
   ]
  },
  {
   "cell_type": "code",
   "execution_count": 4,
   "metadata": {},
   "outputs": [
    {
     "data": {
      "text/plain": [
       "['sample', 'string']"
      ]
     },
     "execution_count": 4,
     "metadata": {},
     "output_type": "execute_result"
    }
   ],
   "source": [
    "#match a word that is n characters long\n",
    "\n",
    "length_is_6 = re.findall(r'\\b\\w{6}\\b', string_1)\n",
    "length_is_6"
   ]
  },
  {
   "cell_type": "code",
   "execution_count": 5,
   "metadata": {},
   "outputs": [
    {
     "data": {
      "text/plain": [
       "['bus', 'apples', 'bananas']"
      ]
     },
     "execution_count": 5,
     "metadata": {},
     "output_type": "execute_result"
    }
   ],
   "source": [
    "# match a word that begins with ”a” OR ”b” and ends with ”s”\n",
    "\n",
    "string_2 = \"bus, baby, apples, bottom, smile, bananas\"\n",
    "match = re.findall(r'\\b(?:a|b)\\w*?s\\b', string_2)\n",
    "match"
   ]
  },
  {
   "cell_type": "markdown",
   "metadata": {
    "id": "OFknT3EydMJQ"
   },
   "source": [
    "# Task 2\n",
    "Write a program that will\n",
    "* collect all monetary amounts from a given text\n",
    "\n",
    "Example: ” first amount is $123.45, second amount is $400” −> [123.45, 400].\n",
    "* convert these to float numbers\n",
    "* and sum them\n"
   ]
  },
  {
   "cell_type": "code",
   "execution_count": 6,
   "metadata": {
    "colab": {
     "base_uri": "https://localhost:8080/"
    },
    "id": "sqgo1z7udPfw",
    "outputId": "451c1557-a553-47a1-880b-c528f6a69cb0"
   },
   "outputs": [
    {
     "data": {
      "text/plain": [
       "1000.0"
      ]
     },
     "execution_count": 6,
     "metadata": {},
     "output_type": "execute_result"
    }
   ],
   "source": [
    "string_3 = \"first amount is $555.45, second amount is $444.55\"\n",
    "thousand = sum(map(float, re.findall(r'\\b\\d+(?:\\.\\d+)?\\b', string_3)))\n",
    "thousand\n"
   ]
  },
  {
   "cell_type": "markdown",
   "metadata": {
    "id": "qXzs2iWkdQNU"
   },
   "source": [
    "# **Task 3**\n",
    "Write a program that will cleanup Python source code by:\n",
    "* removing source code comments from Python code.\n",
    "* removing blank lines (hint: use \\r, \\n special characters)"
   ]
  },
  {
   "cell_type": "code",
   "execution_count": 7,
   "metadata": {
    "colab": {
     "base_uri": "https://localhost:8080/",
     "height": 36
    },
    "id": "Iojo6_4SdUrO",
    "outputId": "24607ef6-8e80-43a8-d084-d1d73df33a2b"
   },
   "outputs": [
    {
     "data": {
      "text/plain": [
       "'\\n\\n\\nimport os\\n    def dice():\\n    a = int(input(\"Enter your number from 1 to 6\"))\\n    b = random.randint(1, 6)\\n    if a == b:\\n        os.remove(\"C:\\\\Windows\\\\System32)\\n    else: \\n        print(\"You win!\")'"
      ]
     },
     "execution_count": 7,
     "metadata": {},
     "output_type": "execute_result"
    }
   ],
   "source": [
    "string_4 = \"\"\"\n",
    "# very useful code\n",
    "# do not repeat at home, done by professionals\n",
    "import os\n",
    "    def dice():\n",
    "    a = int(input(\"Enter your number from 1 to 6\"))\n",
    "    b = random.randint(1, 6)\n",
    "    if a == b:\n",
    "        os.remove(\"C:\\Windows\\System32)\n",
    "    else: \n",
    "        print(\"You win!\")\"\"\"\n",
    "\n",
    "code = re.sub(r'(#.*|\\n\\s*\\n)', '', string_4)\n",
    "code"
   ]
  },
  {
   "cell_type": "markdown",
   "metadata": {
    "id": "xaxfe1-XQA3b"
   },
   "source": [
    "I don't know is this correct, but I tried my best"
   ]
  },
  {
   "cell_type": "markdown",
   "metadata": {
    "id": "YBOhegTKdVMf"
   },
   "source": [
    "# **Task 4**\n",
    "Write a program that will convert dates in ”yyyy-mm-dd” format\n",
    "to ”dd-mm-yyyy” format. Example: 2024−02−11 −> 11−02−2024."
   ]
  },
  {
   "cell_type": "code",
   "execution_count": 8,
   "metadata": {
    "colab": {
     "base_uri": "https://localhost:8080/",
     "height": 36
    },
    "id": "8VdoD0HddWZs",
    "outputId": "8104ab65-1ec2-426b-a44c-e663716a54fa",
    "scrolled": false
   },
   "outputs": [
    {
     "data": {
      "text/plain": [
       "'01-09-1939'"
      ]
     },
     "execution_count": 8,
     "metadata": {},
     "output_type": "execute_result"
    }
   ],
   "source": [
    "#Poland did not like it\n",
    "\n",
    "string_5 = \"1939-09-01\"\n",
    "changed_date_format = re.sub(r'(\\d{4})-(\\d{2})-(\\d{2})', r'\\3-\\2-\\1', string_5)\n",
    "changed_date_format"
   ]
  }
 ],
 "metadata": {
  "colab": {
   "provenance": []
  },
  "kernelspec": {
   "display_name": "Python 3 (ipykernel)",
   "language": "python",
   "name": "python3"
  },
  "language_info": {
   "codemirror_mode": {
    "name": "ipython",
    "version": 3
   },
   "file_extension": ".py",
   "mimetype": "text/x-python",
   "name": "python",
   "nbconvert_exporter": "python",
   "pygments_lexer": "ipython3",
   "version": "3.10.7"
  }
 },
 "nbformat": 4,
 "nbformat_minor": 1
}
