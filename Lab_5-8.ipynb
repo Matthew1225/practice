{
 "cells": [
  {
   "cell_type": "code",
   "execution_count": 1,
   "id": "d1d7193e",
   "metadata": {},
   "outputs": [],
   "source": [
    "import sqlite3\n",
    "con = sqlite3.connect(\"movies.db\")\n",
    "cur = con.cursor()"
   ]
  },
  {
   "cell_type": "markdown",
   "id": "54f3b03b",
   "metadata": {},
   "source": [
    "### Country"
   ]
  },
  {
   "cell_type": "code",
   "execution_count": 17,
   "id": "58d190f9",
   "metadata": {},
   "outputs": [],
   "source": [
    "from enum import Enum\n",
    "class Country(Enum):\n",
    "    BRITAIN = 'Britain'\n",
    "    NEWZEALAND = 'NewZealand'\n",
    "    USA = 'USA'\n",
    "    BRAZIL = 'Brazil'\n",
    "\n",
    "    @classmethod\n",
    "    def valueTuples(self):\n",
    "        return [(e.value,) for e in Country]\n",
    "\n",
    "    @classmethod\n",
    "    def createTable(self):\n",
    "        cur.execute('CREATE TABLE IF NOT EXISTS l_countries (country TEXT PRIMARY KEY)')\n",
    "        cur.executemany('INSERT INTO l_countries VALUES(?)', Country.valueTuples())\n",
    "        con.commit()\n",
    "\n",
    "    @classmethod\n",
    "    def removeTable(self):\n",
    "        cur.execute('DROP TABLE IF EXISTS l_countries')\n",
    "        con.commit()\n",
    "        \n",
    "    @classmethod\n",
    "    def getAll(self):\n",
    "        cur.execute('SELECT * FROM l_countries')\n",
    "        sqlResult = cur.fetchall()\n",
    "        return [Country(p[0]) for p in sqlResult]"
   ]
  },
  {
   "cell_type": "code",
   "execution_count": 3,
   "id": "feb32285",
   "metadata": {},
   "outputs": [],
   "source": [
    "Country.removeTable()\n",
    "Country.createTable()"
   ]
  },
  {
   "cell_type": "code",
   "execution_count": 4,
   "id": "bb2be4ca",
   "metadata": {
    "scrolled": false
   },
   "outputs": [
    {
     "data": {
      "text/plain": [
       "[<Country.BRITAIN: 'Britain'>,\n",
       " <Country.UGANDA: 'Uganda'>,\n",
       " <Country.SPAIN: 'Spain'>,\n",
       " <Country.BRAZIL: 'Brazil'>]"
      ]
     },
     "execution_count": 4,
     "metadata": {},
     "output_type": "execute_result"
    }
   ],
   "source": [
    "Country.getAll()"
   ]
  },
  {
   "cell_type": "markdown",
   "id": "13d9edca",
   "metadata": {},
   "source": [
    "### Genre"
   ]
  },
  {
   "cell_type": "code",
   "execution_count": 5,
   "id": "ac3d3417",
   "metadata": {},
   "outputs": [],
   "source": [
    "class Genre(Enum):\n",
    "    ADVENTURE = 'adventure'\n",
    "    SCIFY = 'scify'\n",
    "    ACTION = 'action'\n",
    "    SUPERHERO = 'superhero'\n",
    "    OTHERS = 'others'\n",
    "    \n",
    "    @classmethod\n",
    "    def valueTuples(self):\n",
    "        return [(e.value,) for e in Genre]\n",
    "\n",
    "    @classmethod\n",
    "    def createTable(self):\n",
    "        cur.execute('CREATE TABLE IF NOT EXISTS l_genres (genre text)')\n",
    "        cur.executemany('INSERT INTO l_genres VALUES(?)', Genre.valueTuples())\n",
    "        con.commit()\n",
    "\n",
    "    @classmethod\n",
    "    def removeTable(self):\n",
    "        cur.execute('DROP TABLE IF EXISTS l_genres')\n",
    "        con.commit()\n",
    "        \n",
    "    @classmethod\n",
    "    def getAll(self):\n",
    "        cur.execute('SELECT * FROM l_genres')\n",
    "        sqlResult = cur.fetchall()\n",
    "        return [Genre(p[0]) for p in sqlResult]"
   ]
  },
  {
   "cell_type": "code",
   "execution_count": 6,
   "id": "3dbd6020",
   "metadata": {},
   "outputs": [
    {
     "data": {
      "text/plain": [
       "[<Genre.ADVENTURE: 'adventure'>,\n",
       " <Genre.SCIFY: 'scify'>,\n",
       " <Genre.ACTION: 'action'>,\n",
       " <Genre.SUPERHERO: 'superhero'>,\n",
       " <Genre.OTHERS: 'others'>]"
      ]
     },
     "execution_count": 6,
     "metadata": {},
     "output_type": "execute_result"
    }
   ],
   "source": [
    "Genre.removeTable()\n",
    "Genre.createTable()\n",
    "Genre.getAll()"
   ]
  },
  {
   "cell_type": "code",
   "execution_count": 7,
   "id": "cff97b4d",
   "metadata": {},
   "outputs": [],
   "source": [
    "def createGenreMapping():\n",
    "    cur.execute('''CREATE TABLE IF NOT EXISTS MOVIE_GENRE(\n",
    "                    movie text,\n",
    "                    genre text,\n",
    "                    PRIMARY KEY(movie, genre),\n",
    "                    FOREIGN KEY(movie) REFERENCES movies(name),\n",
    "                    FOREIGN KEY(genre) REFERENCES l_genres(genre))''')\n",
    "    con.commit()"
   ]
  },
  {
   "cell_type": "code",
   "execution_count": 8,
   "id": "d8252730",
   "metadata": {},
   "outputs": [],
   "source": [
    "cur.execute('DROP TABLE IF EXISTS MOVIE_GENRE')\n",
    "con.commit()"
   ]
  },
  {
   "cell_type": "code",
   "execution_count": 9,
   "id": "4ea91062",
   "metadata": {},
   "outputs": [],
   "source": [
    "createGenreMapping()"
   ]
  },
  {
   "cell_type": "markdown",
   "id": "957cadc8",
   "metadata": {},
   "source": [
    "### Movie"
   ]
  },
  {
   "cell_type": "code",
   "execution_count": 11,
   "id": "23013f3f",
   "metadata": {},
   "outputs": [],
   "source": [
    "class Movie:\n",
    "    def __init__(self, name, director, country, year, rating, genres):\n",
    "        self.name = name\n",
    "        self.director = director\n",
    "        self.country = country\n",
    "        self.year = year\n",
    "        self.rating = rating\n",
    "        self.genres = genres\n",
    "\n",
    "    @classmethod\n",
    "    def createTable(self):\n",
    "        cur.execute('''CREATE TABLE IF NOT EXISTS movies (\n",
    "                        name text PRIMARY KEY,\n",
    "                        director text,\n",
    "                        country text,\n",
    "                        year integer,\n",
    "                        rating REAL,\n",
    "                        FOREIGN KEY(country) REFERENCES l_countries(country))''')\n",
    "        con.commit()\n",
    "\n",
    "    def insert(self):\n",
    "        cur.execute('''INSERT INTO movies VALUES(?,?,?,?, ?)''', (self.name, self.director, self.country, self.year, self.rating))\n",
    "        cur.executemany('''INSERT INTO movie_genre VALUES(?,?)''', [(self.name, m.value) for m in self.genres])\n",
    "        con.commit()\n",
    "\n",
    "    def update(self):\n",
    "        cur.execute('''UPDATE movies SET director=?, country=?, year=?, rating=? WHERE name=?''', (self.director, self.country, self.year, self.rating, self.name))\n",
    "        con.commit()\n",
    "        \n",
    "    @classmethod\n",
    "    def removeTable(self):\n",
    "        cur.execute('DROP TABLE IF EXISTS movies')\n",
    "        con.commit()\n",
    "        \n",
    "    @classmethod\n",
    "    def get(self, name):\n",
    "        cur.execute(''' SELECT director, country, year, rating, GROUP_CONCAT(genre, ',') FROM movies\n",
    "                    LEFT JOIN movie_genre ON movies.name = movie_genre.movie\n",
    "                    WHERE movies.name=? GROUP BY movies.name''', (name,))\n",
    "        res = cur.fetchone()\n",
    "        if res:\n",
    "            return Movie(name, res[0], res[1], res[2], res[3], getGenresFromString(res[4]))\n",
    "        else:\n",
    "            return None\n",
    "\n",
    "    def __str__(self):\n",
    "        return \"(%s, %s, %s, %s, %s, %s)\" % (self.name, self.director, self.country, self.year, self.rating, self.genres)\n",
    "    \n",
    "\n",
    "def getGenresFromString(str):\n",
    "    return {Genre(e) for e in str.split(',')}"
   ]
  },
  {
   "cell_type": "code",
   "execution_count": 13,
   "id": "6da5adb8",
   "metadata": {},
   "outputs": [],
   "source": [
    "Movie.removeTable()\n",
    "Movie.createTable()"
   ]
  },
  {
   "cell_type": "code",
   "execution_count": 20,
   "id": "a2c1c714",
   "metadata": {},
   "outputs": [],
   "source": [
    "movie_1 = Movie('Lord of the rings 1', 'Peter Jackson', 'NewZeaLand', 2001, 8.9, {Genre.ADVENTURE})\n",
    "movie_2 = Movie('Spider-Man', 'Sam Raimi', 'USA', 2002, 7.4, {Genre.SUPERHERO, Genre.ACTION})\n",
    "\n",
    "movie_1.insert()\n",
    "movie_2.insert()"
   ]
  },
  {
   "cell_type": "code",
   "execution_count": 21,
   "id": "6b77a153",
   "metadata": {},
   "outputs": [
    {
     "name": "stdout",
     "output_type": "stream",
     "text": [
      "(Lord of the rings 1, Peter Jackson, NewZeaLand, 2001, 8.9, {<Genre.ADVENTURE: 'adventure'>})\n"
     ]
    }
   ],
   "source": [
    "print(Movie.get('Lord of the rings 1'))"
   ]
  },
  {
   "cell_type": "markdown",
   "id": "ecc77653",
   "metadata": {},
   "source": [
    "### Director"
   ]
  },
  {
   "cell_type": "code",
   "execution_count": 22,
   "id": "0e717ed8",
   "metadata": {},
   "outputs": [],
   "source": [
    "class Director:\n",
    "    def __init__(self, name, birth_year, country):\n",
    "        self.name = name\n",
    "        self.birth_year = birth_year\n",
    "        self.country = country\n",
    "\n",
    "    @classmethod\n",
    "    def createTable(cls):\n",
    "        cur.execute('''CREATE TABLE IF NOT EXISTS directors (\n",
    "                        name TEXT PRIMARY KEY,\n",
    "                        birth_year INTEGER,\n",
    "                        country TEXT)''')\n",
    "        con.commit()\n",
    "\n",
    "    @classmethod\n",
    "    def removeTable(cls):\n",
    "        cur.execute('DROP TABLE IF EXISTS directors')\n",
    "        con.commit()\n",
    "\n",
    "    def insert(self):\n",
    "        cur.execute('''INSERT INTO directors VALUES(?,?,?)''', (self.name, self.birth_year, self.country))\n",
    "        con.commit()\n",
    "\n",
    "    def update(self):\n",
    "        cur.execute('''UPDATE directors SET birth_year=?, country=? WHERE name=?''', (self.birth_year, self.country, self.name))\n",
    "        con.commit() \n",
    "\n",
    "    @classmethod\n",
    "    def get(self, name):\n",
    "        cur.execute('SELECT birth_year, country FROM directors WHERE name=?', (name,))\n",
    "        res = cur.fetchone()\n",
    "        if res:\n",
    "            return Director(name, res[0], res[1])\n",
    "        else:\n",
    "            return None\n",
    "\n",
    "    @classmethod\n",
    "    def getAll(self):\n",
    "        cur.execute('SELECT name, birth_year, country FROM directors')\n",
    "        res = cur.fetchall()\n",
    "        return [Director(el[0], el[1], el[2]) for el in res]\n",
    "\n",
    "    def __str__(self):\n",
    "        return \"(%s, %s, %s)\" % (self.name, self.birth_year, self.country)"
   ]
  },
  {
   "cell_type": "code",
   "execution_count": 23,
   "id": "75fc2668",
   "metadata": {},
   "outputs": [],
   "source": [
    "Director.removeTable()\n",
    "Director.createTable()"
   ]
  },
  {
   "cell_type": "code",
   "execution_count": 24,
   "id": "3627c683",
   "metadata": {},
   "outputs": [],
   "source": [
    "d1 = Director('Peter Jackson',  1961, 'NewZealand')\n",
    "d2 = Director('Sam Raimi', 1959, 'USA')\n",
    "\n",
    "d1.insert()\n",
    "d2.insert()"
   ]
  },
  {
   "cell_type": "code",
   "execution_count": 25,
   "id": "07588598",
   "metadata": {},
   "outputs": [
    {
     "name": "stdout",
     "output_type": "stream",
     "text": [
      "(Peter Jackson, 1961, NewZealand)\n"
     ]
    }
   ],
   "source": [
    "directorFromDb = Director.get('Peter Jackson')\n",
    "print(directorFromDb)"
   ]
  },
  {
   "cell_type": "code",
   "execution_count": 26,
   "id": "0464d5c4",
   "metadata": {},
   "outputs": [],
   "source": [
    "class Movies:\n",
    "    def __init__(self, name, director, country, year, rating, genres):\n",
    "        self.name = name\n",
    "        self.director = director\n",
    "        self.country = country\n",
    "        self.year = year\n",
    "        self.rating = rating\n",
    "        self.genres = genres\n",
    "\n",
    "    @classmethod\n",
    "    def createTable(self):\n",
    "        cur.execute('''CREATE TABLE IF NOT EXISTS movies (\n",
    "                        name TEXT PRIMARY KEY,\n",
    "                        director TEXT,\n",
    "                        country TEXT,\n",
    "                        year INTEGER,\n",
    "                        rating REAL,\n",
    "                        FOREIGN KEY(director) REFERENCES directors(name))''')\n",
    "        con.commit()\n",
    "\n",
    "    def insert(self):\n",
    "        cur.execute('''INSERT INTO movies VALUES(?,?,?,?,?)''', (self.name, self.director, self.country, self.year, self.rating))\n",
    "        cur.executemany('''INSERT INTO movie_genre VALUES(?,?)''', [(self.name, genre.value) for genre in self.genres])\n",
    "        con.commit()\n",
    "\n",
    "    def update(self):\n",
    "        cur.execute('''UPDATE movies SET director=?, country=?, year=?, rating=? WHERE name=?''', \n",
    "                    (self.director, self.country, self.year, self.rating, self.name))\n",
    "        con.commit() \n",
    "\n",
    "\n",
    "    @classmethod\n",
    "    def get(self):\n",
    "        cur.execute('''\n",
    "                    SELECT m.name, m.director, d.birth_year, d.country, m.country, m.year, m.rating, GROUP_CONCAT(g.genre, ',')\n",
    "                    FROM movies m\n",
    "                    LEFT JOIN directors d ON m.director = d.name\n",
    "                    LEFT JOIN movie_genre g ON m.name = g.movie\n",
    "                    GROUP BY m.name\n",
    "                    ''')\n",
    "        res = cur.fetchall()\n",
    "        return res\n",
    "    def __str__(self):\n",
    "        return \"(%s, %s, %s, %s, %s, %s)\" % (self.name, self.director, self.country, self.year, self.rating, self.genres)"
   ]
  },
  {
   "cell_type": "code",
   "execution_count": 28,
   "id": "6d636211",
   "metadata": {},
   "outputs": [],
   "source": [
    "Movie.removeTable()\n",
    "Movie.createTable()"
   ]
  },
  {
   "cell_type": "code",
   "execution_count": 29,
   "id": "09b965d7",
   "metadata": {},
   "outputs": [],
   "source": [
    "cur.execute('DROP TABLE IF EXISTS MOVIE_GENRE')\n",
    "con.commit()"
   ]
  },
  {
   "cell_type": "code",
   "execution_count": 30,
   "id": "e5c8d748",
   "metadata": {},
   "outputs": [],
   "source": [
    "createGenreMapping()"
   ]
  },
  {
   "cell_type": "code",
   "execution_count": 31,
   "id": "6b8a06ae",
   "metadata": {},
   "outputs": [],
   "source": [
    "movie_1 = Movie('Lord of the rings 1', 'Peter Jackson', 'NewZeaLand', 2001, 8.9, {Genre.ADVENTURE})\n",
    "movie_2 = Movie('Spider-Man', 'Sam Raimi', 'USA', 2002, 7.4, {Genre.SUPERHERO, Genre.ACTION})\n",
    "\n",
    "movie_1.insert()\n",
    "movie_2.insert()"
   ]
  },
  {
   "cell_type": "code",
   "execution_count": 55,
   "id": "1cfa9f13",
   "metadata": {},
   "outputs": [
    {
     "name": "stdout",
     "output_type": "stream",
     "text": [
      "(Lord of the rings 1, Peter Jackson, NewZeaLand, 2001, 8.9, {<Genre.ADVENTURE: 'adventure'>})\n"
     ]
    }
   ],
   "source": [
    "print(movie_1.get(\"Lord of the rings 1\"))"
   ]
  },
  {
   "cell_type": "code",
   "execution_count": 60,
   "id": "3e1a2991",
   "metadata": {},
   "outputs": [
    {
     "ename": "TypeError",
     "evalue": "Movie.get() missing 1 required positional argument: 'name'",
     "output_type": "error",
     "traceback": [
      "\u001b[1;31m---------------------------------------------------------------------------\u001b[0m",
      "\u001b[1;31mTypeError\u001b[0m                                 Traceback (most recent call last)",
      "Cell \u001b[1;32mIn[60], line 1\u001b[0m\n\u001b[1;32m----> 1\u001b[0m movies \u001b[38;5;241m=\u001b[39m \u001b[43mmovie_2\u001b[49m\u001b[38;5;241;43m.\u001b[39;49m\u001b[43mget\u001b[49m\u001b[43m(\u001b[49m\u001b[43m)\u001b[49m\n\u001b[0;32m      2\u001b[0m formatted_movies \u001b[38;5;241m=\u001b[39m []\n\u001b[0;32m      3\u001b[0m \u001b[38;5;28;01mfor\u001b[39;00m movie \u001b[38;5;129;01min\u001b[39;00m movies:\n",
      "\u001b[1;31mTypeError\u001b[0m: Movie.get() missing 1 required positional argument: 'name'"
     ]
    }
   ],
   "source": [
    "movies = movie_2.get()\n",
    "formatted_movies = []\n",
    "for movie in movies:\n",
    "    formatted_movies.append(str(movie))\n",
    "print(formatted_movies)"
   ]
  },
  {
   "cell_type": "markdown",
   "id": "17b14611",
   "metadata": {},
   "source": [
    "### erDiagram"
   ]
  },
  {
   "cell_type": "markdown",
   "id": "c3551c80",
   "metadata": {},
   "source": [
    "erDiagram\n",
    "\n",
    "\n",
    "    movie {\n",
    "        TEXT name PK\n",
    "        TEXT director\n",
    "        TEXT country FK\n",
    "        INTEGER year\n",
    "        REAL rating\n",
    "\n",
    "    }\n",
    "\n",
    "    l_countries {\n",
    "        TEXT country PK\n",
    "    }\n",
    "\n",
    "    directors {\n",
    "        TEXT name PK\n",
    "        INTEGER year\n",
    "        TEXT country\n",
    "    }\n",
    "\n",
    "    l_genres {\n",
    "        TEXT genre PK\n",
    "    }\n",
    "\n",
    "    movie_genres {\n",
    "        TEXT movie FK\n",
    "        TEXT genre FK\n",
    "    }\n",
    "\n",
    "\n",
    "    movie }|--|| directors : \"made by\"\n",
    "    movie }|--|| l_countries : from\n",
    "    movie }|--|{ movie_genres  : \"is\"\n",
    "    l_genres||--|{ movie_genres : refers"
   ]
  }
 ],
 "metadata": {
  "kernelspec": {
   "display_name": "Python 3 (ipykernel)",
   "language": "python",
   "name": "python3"
  },
  "language_info": {
   "codemirror_mode": {
    "name": "ipython",
    "version": 3
   },
   "file_extension": ".py",
   "mimetype": "text/x-python",
   "name": "python",
   "nbconvert_exporter": "python",
   "pygments_lexer": "ipython3",
   "version": "3.10.7"
  }
 },
 "nbformat": 4,
 "nbformat_minor": 5
}
