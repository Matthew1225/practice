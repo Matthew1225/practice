{
 "cells": [
  {
   "cell_type": "code",
   "execution_count": 1,
   "id": "a79dd319",
   "metadata": {},
   "outputs": [],
   "source": [
    "import sqlite3"
   ]
  },
  {
   "cell_type": "markdown",
   "id": "06be9265",
   "metadata": {},
   "source": [
    "### Connecting to database and creating table"
   ]
  },
  {
   "cell_type": "code",
   "execution_count": 2,
   "id": "3b51dd60",
   "metadata": {},
   "outputs": [],
   "source": [
    "con = sqlite3.connect(\"Movies.db\")\n",
    "cur = con.cursor()"
   ]
  },
  {
   "cell_type": "code",
   "execution_count": 3,
   "id": "cc886936",
   "metadata": {},
   "outputs": [
    {
     "data": {
      "text/plain": [
       "<sqlite3.Cursor at 0x152cfb37440>"
      ]
     },
     "execution_count": 3,
     "metadata": {},
     "output_type": "execute_result"
    }
   ],
   "source": [
    "cur.execute(\"\"\"CREATE TABLE If Not Exists Movies (title text,\n",
    "                                                  year integer,\n",
    "                                                  director text,\n",
    "                                                  genre text,\n",
    "                                                  rating real)\"\"\")"
   ]
  },
  {
   "cell_type": "markdown",
   "id": "f54eb7d1",
   "metadata": {},
   "source": [
    "### Creating class Movie and adding methods\n",
    "1) select\n",
    "2) insert\n",
    "3) update rating\n",
    "4) delete"
   ]
  },
  {
   "cell_type": "code",
   "execution_count": 4,
   "id": "cb27cd97",
   "metadata": {},
   "outputs": [],
   "source": [
    "class Movie:\n",
    "    def __init__(self, title, year, director, genre, rating):\n",
    "        self.title = title\n",
    "        self.year = year\n",
    "        self.director = director\n",
    "        self.genre = genre\n",
    "        self.rating = rating\n",
    "    \n",
    "    @classmethod    \n",
    "    def select_movie(self, name):\n",
    "        cur.execute(\"Select * from Movies where title=?\", (name,))\n",
    "        res = cur.fetchone()\n",
    "        return Movie(res[0],res[1],res[2], res[3],res[4])\n",
    "    \n",
    "    def insert_movie(self):\n",
    "        cur.execute('INSERT INTO Movies(title, year, director,genre, rating) Values(?,?,?,?,?)', (self.title, self.year, self.director, self.genre, self.rating))\n",
    "        con.commit()\n",
    "            \n",
    "    def update_rating(title, rating):\n",
    "        cur.execute('UPDATE Movies SET rating=? WHERE title=?', (rating,title))\n",
    "        con.commit()\n",
    "        \n",
    "    def delete(title):\n",
    "        cur.execute('DELETE FROM Movies WHERE title=?', (title,))\n",
    "        con.commit()"
   ]
  },
  {
   "cell_type": "code",
   "execution_count": 5,
   "id": "4a5678ba",
   "metadata": {},
   "outputs": [],
   "source": [
    "movie_1 = Movie('Lord of the rings 1', 2001, 'Peter Jackson', 'adventure', 8.9)\n",
    "movie_2 = Movie('Man in black', 1997, 'Barry Sonnenfeld', 'action', 7.3)\n",
    "movie_3 = Movie('Spider-Man', 2002, 'Sam Raimi', 'superhero', 7.4)"
   ]
  },
  {
   "cell_type": "markdown",
   "id": "c2289338",
   "metadata": {},
   "source": [
    "### Showing that methods insert and select are working below:"
   ]
  },
  {
   "cell_type": "code",
   "execution_count": 6,
   "id": "2c44a7e1",
   "metadata": {},
   "outputs": [],
   "source": [
    "movie_1.insert_movie()"
   ]
  },
  {
   "cell_type": "code",
   "execution_count": 7,
   "id": "2a6365e9",
   "metadata": {},
   "outputs": [
    {
     "data": {
      "text/plain": [
       "{'title': 'Lord of the rings 1',\n",
       " 'year': 2001,\n",
       " 'director': 'Peter Jackson',\n",
       " 'genre': 'adventure',\n",
       " 'rating': 8.9}"
      ]
     },
     "execution_count": 7,
     "metadata": {},
     "output_type": "execute_result"
    }
   ],
   "source": [
    "Movie.select_movie('Lord of the rings 1').__dict__"
   ]
  },
  {
   "cell_type": "markdown",
   "id": "beafe4f1",
   "metadata": {},
   "source": [
    "### Updating rating of this masterpiece to 10 :)"
   ]
  },
  {
   "cell_type": "code",
   "execution_count": 8,
   "id": "8de8f6fb",
   "metadata": {},
   "outputs": [],
   "source": [
    "Movie.update_rating('Lord of the rings 1', 10)"
   ]
  },
  {
   "cell_type": "code",
   "execution_count": 9,
   "id": "3b76cccf",
   "metadata": {},
   "outputs": [
    {
     "data": {
      "text/plain": [
       "{'title': 'Lord of the rings 1',\n",
       " 'year': 2001,\n",
       " 'director': 'Peter Jackson',\n",
       " 'genre': 'adventure',\n",
       " 'rating': 10.0}"
      ]
     },
     "execution_count": 9,
     "metadata": {},
     "output_type": "execute_result"
    }
   ],
   "source": [
    "Movie.select_movie('Lord of the rings 1').__dict__"
   ]
  },
  {
   "cell_type": "markdown",
   "id": "178dbf59",
   "metadata": {},
   "source": [
    "### Deleting the masterpiece :("
   ]
  },
  {
   "cell_type": "code",
   "execution_count": 10,
   "id": "748dea74",
   "metadata": {},
   "outputs": [],
   "source": [
    "Movie.delete('Lord of the rings 1')"
   ]
  },
  {
   "cell_type": "code",
   "execution_count": 11,
   "id": "23c98d22",
   "metadata": {},
   "outputs": [
    {
     "data": {
      "text/plain": [
       "[]"
      ]
     },
     "execution_count": 11,
     "metadata": {},
     "output_type": "execute_result"
    }
   ],
   "source": [
    "res = cur.execute(\"select * from Movies\")\n",
    "res.fetchall()"
   ]
  },
  {
   "cell_type": "markdown",
   "id": "9b829f80",
   "metadata": {},
   "source": [
    "### And one more evidence that everything is working!!!"
   ]
  },
  {
   "cell_type": "code",
   "execution_count": 14,
   "id": "620764b6",
   "metadata": {},
   "outputs": [],
   "source": [
    "movie_3.insert_movie()"
   ]
  },
  {
   "cell_type": "code",
   "execution_count": 15,
   "id": "28cd45c5",
   "metadata": {},
   "outputs": [
    {
     "data": {
      "text/plain": [
       "[('Spider-Man', 2002, 'Sam Raimi', 'superhero', 7.4)]"
      ]
     },
     "execution_count": 15,
     "metadata": {},
     "output_type": "execute_result"
    }
   ],
   "source": [
    "res = cur.execute(\"select * from Movies\")\n",
    "res.fetchall()"
   ]
  }
 ],
 "metadata": {
  "kernelspec": {
   "display_name": "Python 3 (ipykernel)",
   "language": "python",
   "name": "python3"
  },
  "language_info": {
   "codemirror_mode": {
    "name": "ipython",
    "version": 3
   },
   "file_extension": ".py",
   "mimetype": "text/x-python",
   "name": "python",
   "nbconvert_exporter": "python",
   "pygments_lexer": "ipython3",
   "version": "3.10.7"
  }
 },
 "nbformat": 4,
 "nbformat_minor": 5
}
