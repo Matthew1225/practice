{
 "cells": [
  {
   "cell_type": "code",
   "execution_count": 1,
   "id": "55f41b8b",
   "metadata": {},
   "outputs": [],
   "source": [
    "from enum import Enum"
   ]
  },
  {
   "cell_type": "code",
   "execution_count": 2,
   "id": "16f8560a",
   "metadata": {},
   "outputs": [],
   "source": [
    "class Genre(Enum):\n",
    "    Comedy = 1\n",
    "    Romance = 2\n",
    "    Science_fiction = 3\n",
    "    Action = 4\n",
    "    Drama = 5\n",
    "    Horror = 6\n",
    "    Fantasy = 7\n",
    "    Adventure = 8\n",
    "    Crime = 9\n",
    "    Historical = 10\n",
    "    Other = 11"
   ]
  },
  {
   "cell_type": "code",
   "execution_count": 3,
   "id": "3521c368",
   "metadata": {},
   "outputs": [],
   "source": [
    "class Director:\n",
    "    def __init__(self, name):\n",
    "        self.name = name"
   ]
  },
  {
   "cell_type": "code",
   "execution_count": 4,
   "id": "ed26130c",
   "metadata": {},
   "outputs": [],
   "source": [
    "class Movie:\n",
    "    def __init__(self, title: str, year: int, director: str, genre: int, rating: float):\n",
    "        self.title = title\n",
    "        self.year = year\n",
    "        self.director = director.name\n",
    "        self.genre = Genre(genre).name\n",
    "        self.rating = rating\n",
    "        \n",
    "    def __str__(self):\n",
    "        return f'Title: {self.title}\\nYear: {self.year}\\nDirector: {self.director}\\nRating: {self.rating}\\nGenre: {self.genre}'\n"
   ]
  },
  {
   "cell_type": "code",
   "execution_count": 5,
   "id": "5a56b26a",
   "metadata": {},
   "outputs": [],
   "source": [
    "it_chapter_one_director = Director('Andy Muschietti')\n",
    "interstellar_director = Director('Christopher Nolan')\n",
    "spider_man_director = Director('Sam Raimi')"
   ]
  },
  {
   "cell_type": "code",
   "execution_count": 6,
   "id": "35e5f8b0",
   "metadata": {},
   "outputs": [],
   "source": [
    "movie_1 = Movie('It Chapter One', 2017, it_chapter_one_director, 6, 7.3)\n",
    "movie_2 = Movie('Interstellar', 2014, interstellar_director, 3, 8.7)\n",
    "movie_3 = Movie('Spider-Man', 2002, spider_man_director, 11, 7.4)"
   ]
  },
  {
   "cell_type": "code",
   "execution_count": 7,
   "id": "7d841430",
   "metadata": {},
   "outputs": [
    {
     "name": "stdout",
     "output_type": "stream",
     "text": [
      "Title: It Chapter One\n",
      "Year: 2017\n",
      "Director: Andy Muschietti\n",
      "Rating: 7.3\n",
      "Genre: Horror\n"
     ]
    }
   ],
   "source": [
    "print(movie_1)"
   ]
  },
  {
   "cell_type": "code",
   "execution_count": 8,
   "id": "3b26e361",
   "metadata": {},
   "outputs": [
    {
     "name": "stdout",
     "output_type": "stream",
     "text": [
      "Title: Interstellar\n",
      "Year: 2014\n",
      "Director: Christopher Nolan\n",
      "Rating: 8.7\n",
      "Genre: Science_fiction\n"
     ]
    }
   ],
   "source": [
    "print(movie_2)"
   ]
  },
  {
   "cell_type": "code",
   "execution_count": 9,
   "id": "9e9c2829",
   "metadata": {},
   "outputs": [
    {
     "name": "stdout",
     "output_type": "stream",
     "text": [
      "Title: Spider-Man\n",
      "Year: 2002\n",
      "Director: Sam Raimi\n",
      "Rating: 7.4\n",
      "Genre: Other\n"
     ]
    }
   ],
   "source": [
    "print(movie_3)"
   ]
  }
 ],
 "metadata": {
  "kernelspec": {
   "display_name": "Python 3 (ipykernel)",
   "language": "python",
   "name": "python3"
  },
  "language_info": {
   "codemirror_mode": {
    "name": "ipython",
    "version": 3
   },
   "file_extension": ".py",
   "mimetype": "text/x-python",
   "name": "python",
   "nbconvert_exporter": "python",
   "pygments_lexer": "ipython3",
   "version": "3.10.7"
  }
 },
 "nbformat": 4,
 "nbformat_minor": 5
}
